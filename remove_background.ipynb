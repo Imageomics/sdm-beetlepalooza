version https://git-lfs.github.com/spec/v1
oid sha256:0f2a8b6dcf6ffed3c36760ef42a83d0ed08baadfdf057573f1410f821a053e97
size 19848528
